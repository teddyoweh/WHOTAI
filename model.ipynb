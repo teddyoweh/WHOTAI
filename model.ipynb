{
 "cells": [
  {
   "cell_type": "code",
   "execution_count": 24,
   "metadata": {},
   "outputs": [],
   "source": [
    "import pandas as pd\n",
    "from model import DecisionTree,TokenizerGen"
   ]
  },
  {
   "cell_type": "code",
   "execution_count": 41,
   "metadata": {},
   "outputs": [
    {
     "name": "stdout",
     "output_type": "stream",
     "text": [
      "Collecting sklearn\n",
      "  Using cached sklearn-0.0.post1-py3-none-any.whl\n",
      "Installing collected packages: sklearn\n",
      "Successfully installed sklearn-0.0.post1\n"
     ]
    }
   ],
   "source": [
    "!python3.9 -m pip install sklearn"
   ]
  },
  {
   "cell_type": "code",
   "execution_count": 32,
   "metadata": {},
   "outputs": [],
   "source": [
    "data =pd.read_csv('data.csv',nrows=1000)"
   ]
  },
  {
   "cell_type": "code",
   "execution_count": 33,
   "metadata": {},
   "outputs": [],
   "source": [
    "ins = data.drop(columns=['id','Action'])\n",
    "outs = data['Action']\n"
   ]
  },
  {
   "cell_type": "code",
   "execution_count": 31,
   "metadata": {},
   "outputs": [
    {
     "data": {
      "text/html": [
       "<div>\n",
       "<style scoped>\n",
       "    .dataframe tbody tr th:only-of-type {\n",
       "        vertical-align: middle;\n",
       "    }\n",
       "\n",
       "    .dataframe tbody tr th {\n",
       "        vertical-align: top;\n",
       "    }\n",
       "\n",
       "    .dataframe thead th {\n",
       "        text-align: right;\n",
       "    }\n",
       "</style>\n",
       "<table border=\"1\" class=\"dataframe\">\n",
       "  <thead>\n",
       "    <tr style=\"text-align: right;\">\n",
       "      <th></th>\n",
       "      <th>id</th>\n",
       "      <th>Card 1</th>\n",
       "      <th>Card 2</th>\n",
       "      <th>Card 3</th>\n",
       "      <th>Card 4</th>\n",
       "      <th>Played</th>\n",
       "      <th>Action</th>\n",
       "    </tr>\n",
       "  </thead>\n",
       "  <tbody>\n",
       "    <tr>\n",
       "      <th>0</th>\n",
       "      <td>0</td>\n",
       "      <td>circle 1</td>\n",
       "      <td>circle 2</td>\n",
       "      <td>circle 3</td>\n",
       "      <td>circle 4</td>\n",
       "      <td>circle 1</td>\n",
       "      <td>circle 1</td>\n",
       "    </tr>\n",
       "    <tr>\n",
       "      <th>1</th>\n",
       "      <td>1</td>\n",
       "      <td>circle 1</td>\n",
       "      <td>circle 2</td>\n",
       "      <td>circle 3</td>\n",
       "      <td>circle 4</td>\n",
       "      <td>circle 2</td>\n",
       "      <td>circle 1</td>\n",
       "    </tr>\n",
       "    <tr>\n",
       "      <th>2</th>\n",
       "      <td>2</td>\n",
       "      <td>circle 1</td>\n",
       "      <td>circle 2</td>\n",
       "      <td>circle 3</td>\n",
       "      <td>circle 4</td>\n",
       "      <td>circle 3</td>\n",
       "      <td>circle 1</td>\n",
       "    </tr>\n",
       "    <tr>\n",
       "      <th>3</th>\n",
       "      <td>3</td>\n",
       "      <td>circle 1</td>\n",
       "      <td>circle 2</td>\n",
       "      <td>circle 3</td>\n",
       "      <td>circle 4</td>\n",
       "      <td>circle 4</td>\n",
       "      <td>circle 1</td>\n",
       "    </tr>\n",
       "    <tr>\n",
       "      <th>4</th>\n",
       "      <td>4</td>\n",
       "      <td>circle 1</td>\n",
       "      <td>circle 2</td>\n",
       "      <td>circle 3</td>\n",
       "      <td>circle 4</td>\n",
       "      <td>circle 5</td>\n",
       "      <td>circle 1</td>\n",
       "    </tr>\n",
       "    <tr>\n",
       "      <th>...</th>\n",
       "      <td>...</td>\n",
       "      <td>...</td>\n",
       "      <td>...</td>\n",
       "      <td>...</td>\n",
       "      <td>...</td>\n",
       "      <td>...</td>\n",
       "      <td>...</td>\n",
       "    </tr>\n",
       "    <tr>\n",
       "      <th>995</th>\n",
       "      <td>995</td>\n",
       "      <td>circle 1</td>\n",
       "      <td>circle 2</td>\n",
       "      <td>circle 3</td>\n",
       "      <td>circle 4</td>\n",
       "      <td>sqaure 14</td>\n",
       "      <td>g o   m a r k e t</td>\n",
       "    </tr>\n",
       "    <tr>\n",
       "      <th>996</th>\n",
       "      <td>996</td>\n",
       "      <td>circle 1</td>\n",
       "      <td>circle 2</td>\n",
       "      <td>circle 3</td>\n",
       "      <td>circle 4</td>\n",
       "      <td>star 1</td>\n",
       "      <td>circle 1</td>\n",
       "    </tr>\n",
       "    <tr>\n",
       "      <th>997</th>\n",
       "      <td>997</td>\n",
       "      <td>circle 1</td>\n",
       "      <td>circle 2</td>\n",
       "      <td>circle 3</td>\n",
       "      <td>circle 4</td>\n",
       "      <td>star 2</td>\n",
       "      <td>circle 2</td>\n",
       "    </tr>\n",
       "    <tr>\n",
       "      <th>998</th>\n",
       "      <td>998</td>\n",
       "      <td>circle 1</td>\n",
       "      <td>circle 2</td>\n",
       "      <td>circle 3</td>\n",
       "      <td>circle 4</td>\n",
       "      <td>star 3</td>\n",
       "      <td>circle 3</td>\n",
       "    </tr>\n",
       "    <tr>\n",
       "      <th>999</th>\n",
       "      <td>999</td>\n",
       "      <td>circle 1</td>\n",
       "      <td>circle 2</td>\n",
       "      <td>circle 3</td>\n",
       "      <td>circle 4</td>\n",
       "      <td>star 4</td>\n",
       "      <td>g o   m a r k e t</td>\n",
       "    </tr>\n",
       "  </tbody>\n",
       "</table>\n",
       "<p>1000 rows × 7 columns</p>\n",
       "</div>"
      ],
      "text/plain": [
       "      id    Card 1    Card 2    Card 3    Card 4     Played             Action\n",
       "0      0  circle 1  circle 2  circle 3  circle 4   circle 1           circle 1\n",
       "1      1  circle 1  circle 2  circle 3  circle 4   circle 2           circle 1\n",
       "2      2  circle 1  circle 2  circle 3  circle 4   circle 3           circle 1\n",
       "3      3  circle 1  circle 2  circle 3  circle 4   circle 4           circle 1\n",
       "4      4  circle 1  circle 2  circle 3  circle 4   circle 5           circle 1\n",
       "..   ...       ...       ...       ...       ...        ...                ...\n",
       "995  995  circle 1  circle 2  circle 3  circle 4  sqaure 14  g o   m a r k e t\n",
       "996  996  circle 1  circle 2  circle 3  circle 4     star 1           circle 1\n",
       "997  997  circle 1  circle 2  circle 3  circle 4     star 2           circle 2\n",
       "998  998  circle 1  circle 2  circle 3  circle 4     star 3           circle 3\n",
       "999  999  circle 1  circle 2  circle 3  circle 4     star 4  g o   m a r k e t\n",
       "\n",
       "[1000 rows x 7 columns]"
      ]
     },
     "execution_count": 31,
     "metadata": {},
     "output_type": "execute_result"
    }
   ],
   "source": [
    "data"
   ]
  },
  {
   "cell_type": "code",
   "execution_count": 42,
   "metadata": {},
   "outputs": [
    {
     "ename": "ModuleNotFoundError",
     "evalue": "No module named 'sklearn'",
     "output_type": "error",
     "traceback": [
      "\u001b[0;31m---------------------------------------------------------------------------\u001b[0m",
      "\u001b[0;31mModuleNotFoundError\u001b[0m                       Traceback (most recent call last)",
      "Cell \u001b[0;32mIn[42], line 2\u001b[0m\n\u001b[1;32m      1\u001b[0m outs\n\u001b[0;32m----> 2\u001b[0m \u001b[39mfrom\u001b[39;00m \u001b[39msklearn\u001b[39;00m\u001b[39m.\u001b[39;00m\u001b[39mpipeline\u001b[39;00m \u001b[39mimport\u001b[39;00m Pipeline\n\u001b[1;32m      3\u001b[0m \u001b[39mfrom\u001b[39;00m \u001b[39msklearn\u001b[39;00m\u001b[39m.\u001b[39;00m\u001b[39mfeature_extraction\u001b[39;00m\u001b[39m.\u001b[39;00m\u001b[39mtext\u001b[39;00m \u001b[39mimport\u001b[39;00m TfidfVectorizer\n\u001b[1;32m      4\u001b[0m \u001b[39m# pipeline = Pipeline(\u001b[39;00m\n\u001b[1;32m      5\u001b[0m \u001b[39m#     [\u001b[39;00m\n\u001b[1;32m      6\u001b[0m \u001b[39m#     TfidfVectorizer(),\u001b[39;00m\n\u001b[0;32m   (...)\u001b[0m\n\u001b[1;32m     11\u001b[0m \u001b[39m# tokenizer = TokenizerGen()\u001b[39;00m\n\u001b[1;32m     12\u001b[0m \u001b[39m# tokenizer.transform(ins)\u001b[39;00m\n",
      "\u001b[0;31mModuleNotFoundError\u001b[0m: No module named 'sklearn'"
     ]
    }
   ],
   "source": [
    "outs\n",
    "# from sklearn.pipeline import Pipeline\n",
    "# from sklearn.feature_extraction.text import TfidfVectorizer\n",
    "# pipeline = Pipeline(\n",
    "#     [\n",
    "#     TfidfVectorizer(),\n",
    "#     DecisionTree()\n",
    "#     ]\n",
    "# )\n",
    "\n",
    "# tokenizer = TokenizerGen()\n",
    "# tokenizer.transform(ins)\n"
   ]
  },
  {
   "cell_type": "code",
   "execution_count": null,
   "metadata": {},
   "outputs": [],
   "source": []
  }
 ],
 "metadata": {
  "kernelspec": {
   "display_name": "Python 3",
   "language": "python",
   "name": "python3"
  },
  "language_info": {
   "codemirror_mode": {
    "name": "ipython",
    "version": 3
   },
   "file_extension": ".py",
   "mimetype": "text/x-python",
   "name": "python",
   "nbconvert_exporter": "python",
   "pygments_lexer": "ipython3",
   "version": "3.11.2"
  },
  "orig_nbformat": 4,
  "vscode": {
   "interpreter": {
    "hash": "b0fa6594d8f4cbf19f97940f81e996739fb7646882a419484c72d19e05852a7e"
   }
  }
 },
 "nbformat": 4,
 "nbformat_minor": 2
}
